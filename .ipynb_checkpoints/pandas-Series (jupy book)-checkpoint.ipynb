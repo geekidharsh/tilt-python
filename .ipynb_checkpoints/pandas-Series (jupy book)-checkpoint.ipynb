{
 "cells": [
  {
   "cell_type": "markdown",
   "metadata": {},
   "source": [
    "# Pandas\n",
    "## Jupyter notebook for learning pandas\n",
    "> Author: Harsh"
   ]
  },
  {
   "cell_type": "code",
   "execution_count": 6,
   "metadata": {},
   "outputs": [
    {
     "name": "stdout",
     "output_type": "stream",
     "text": [
      "hello jupyter\n"
     ]
    }
   ],
   "source": [
    "print (\"hello jupyter\")"
   ]
  },
  {
   "cell_type": "code",
   "execution_count": 7,
   "metadata": {},
   "outputs": [
    {
     "name": "stdout",
     "output_type": "stream",
     "text": [
      "0.19.2\n"
     ]
    }
   ],
   "source": [
    "import pandas as pd\n",
    "print(pd.__version__)"
   ]
  },
  {
   "cell_type": "markdown",
   "metadata": {},
   "source": [
    "### 1. create a dict below"
   ]
  },
  {
   "cell_type": "code",
   "execution_count": 10,
   "metadata": {},
   "outputs": [
    {
     "name": "stdout",
     "output_type": "stream",
     "text": [
      "Index(['list1', 'list2'], dtype='object')\n"
     ]
    }
   ],
   "source": [
    "url_lists = {'list1': ['www.example.com', 'www.example1.com'], \n",
    "\t\t\t'list2': ['www.exampletwo.com', 'www.examplethree.com']}\n",
    "\n",
    "# generate pandas Series from the url_lists\n",
    "sampleSeries = pd.Series(url_lists)\n",
    "\n",
    "print (sampleSeries.keys()) # print keys from sample Series to verify"
   ]
  },
  {
   "cell_type": "markdown",
   "metadata": {},
   "source": [
    "### 2. iterate over a certain row in a Series. Say list1"
   ]
  },
  {
   "cell_type": "code",
   "execution_count": 15,
   "metadata": {},
   "outputs": [
    {
     "name": "stdout",
     "output_type": "stream",
     "text": [
      "----\n",
      "www.example.com\n",
      "www.example1.com\n",
      "----\n"
     ]
    }
   ],
   "source": [
    "for url in url_lists['list1']:\n",
    "\tprint (url)\n",
    "print (\"----\")"
   ]
  },
  {
   "cell_type": "markdown",
   "metadata": {},
   "source": [
    "### 3. iterate over a all data in all rows in a Series"
   ]
  },
  {
   "cell_type": "code",
   "execution_count": 27,
   "metadata": {},
   "outputs": [
    {
     "name": "stdout",
     "output_type": "stream",
     "text": [
      "www.exampletwo.com\n",
      "www.examplethree.com\n",
      "www.example.com\n",
      "www.example1.com\n"
     ]
    }
   ],
   "source": [
    "for key in url_lists.keys():\n",
    "    for url in url_lists[key]:\n",
    "        print (url)"
   ]
  },
  {
   "cell_type": "markdown",
   "metadata": {},
   "source": [
    "### 4. write Series into a csv file"
   ]
  },
  {
   "cell_type": "code",
   "execution_count": 29,
   "metadata": {},
   "outputs": [],
   "source": [
    "sampleSeries.to_csv('Series-example.csv', encoding='utf-8')"
   ]
  },
  {
   "cell_type": "markdown",
   "metadata": {},
   "source": [
    "*Check file location for a new csv file 'Series-example.csv'*"
   ]
  },
  {
   "cell_type": "markdown",
   "metadata": {},
   "source": [
    "### 5. read from a csv into a series\n",
    "using from_csv in Series"
   ]
  },
  {
   "cell_type": "code",
   "execution_count": null,
   "metadata": {
    "collapsed": true
   },
   "outputs": [],
   "source": [
    "test_Series_reader = pd.Series.from_csv('Series-example.csv')\n",
    "print (test_Series_reader.keys())"
   ]
  },
  {
   "cell_type": "markdown",
   "metadata": {},
   "source": [
    "a powerful csv reader method is pandas.read_csv(), use that instead for a much general purpose usage"
   ]
  },
  {
   "cell_type": "code",
   "execution_count": 30,
   "metadata": {},
   "outputs": [
    {
     "name": "stdout",
     "output_type": "stream",
     "text": [
      "   list1         ['www.example.com', 'www.example1.com']\n",
      "0  list2  ['www.exampletwo.com', 'www.examplethree.com']\n"
     ]
    }
   ],
   "source": [
    "test_Series_reader1 = pd.read_csv('Series-example.csv')\n",
    "print (test_Series_reader1.head())"
   ]
  },
  {
   "cell_type": "code",
   "execution_count": null,
   "metadata": {
    "collapsed": true
   },
   "outputs": [],
   "source": []
  }
 ],
 "metadata": {
  "kernelspec": {
   "display_name": "Python 3",
   "language": "python",
   "name": "python3"
  },
  "language_info": {
   "codemirror_mode": {
    "name": "ipython",
    "version": 3
   },
   "file_extension": ".py",
   "mimetype": "text/x-python",
   "name": "python",
   "nbconvert_exporter": "python",
   "pygments_lexer": "ipython3",
   "version": "3.5.1"
  }
 },
 "nbformat": 4,
 "nbformat_minor": 2
}
